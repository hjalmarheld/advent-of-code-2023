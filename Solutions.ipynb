{
 "cells": [
  {
   "cell_type": "code",
   "execution_count": 2,
   "metadata": {},
   "outputs": [],
   "source": [
    "def input(\n",
    "        day: int,\n",
    "        sample: bool=True,\n",
    "        listify: bool=False):\n",
    "    if sample:\n",
    "        filename='sample'\n",
    "    else:\n",
    "        filename='input'\n",
    "    with open(f'data/{day}/{filename}.txt') as file:\n",
    "        data = file.read()\n",
    "\n",
    "    if listify:\n",
    "        data = data.splitlines()\n",
    "\n",
    "    return data"
   ]
  },
  {
   "cell_type": "markdown",
   "metadata": {},
   "source": [
    "# Day 1"
   ]
  },
  {
   "cell_type": "code",
   "execution_count": 53,
   "metadata": {},
   "outputs": [
    {
     "name": "stdout",
     "output_type": "stream",
     "text": [
      "53921\n",
      "54676\n"
     ]
    }
   ],
   "source": [
    "inp = input(1, listify=True, sample=False)\n",
    "\n",
    "total = 0 \n",
    "for line in inp:\n",
    "    nums = [char for char in line if char.isnumeric()]\n",
    "    total += int(nums[0]+nums[-1])\n",
    "    \n",
    "print(total)\n",
    "\n",
    "numbers = ['one', 'two', 'three', 'four', 'five', 'six', 'seven', 'eight', 'nine']\n",
    "\n",
    "total = 0 \n",
    "for line in inp:\n",
    "    for i, num in enumerate(numbers):\n",
    "        line = line.replace(num, num+str(i+1)+num)\n",
    "    nums = [char for char in line if char.isnumeric()]\n",
    "    total += int(nums[0]+nums[-1])\n",
    "\n",
    "print(total)"
   ]
  },
  {
   "cell_type": "markdown",
   "metadata": {},
   "source": [
    "# Day 2"
   ]
  },
  {
   "cell_type": "code",
   "execution_count": 65,
   "metadata": {},
   "outputs": [
    {
     "name": "stdout",
     "output_type": "stream",
     "text": [
      "question 1:\n",
      "1931\n",
      "question 2:\n",
      "83105\n"
     ]
    }
   ],
   "source": [
    "inp = input(2, listify=True, sample=False)\n",
    "\n",
    "# parse input such that\n",
    "# games = {\n",
    "#   1: ['3 blue', '4 red', '1 red', '2 green'...]\n",
    "#   ...\n",
    "#   }\n",
    "games = {\n",
    "    int(game.split(':')[0].split()[1]):\n",
    "    game.split(':')[1].replace('; ',', ').strip().split(', ')\n",
    "    for game in inp}\n",
    "\n",
    "# get max draw of each colour for each game such that\n",
    "# games = {\n",
    "#   1: {'blue': 6, 'red': 4, 'green': 2}\n",
    "#   ...\n",
    "#   }\n",
    "for no, game in games.items():\n",
    "    colours={}\n",
    "    for draw in game:\n",
    "        draw = draw.split()\n",
    "        colours[draw[-1]] = max(\n",
    "            int(draw[0]),\n",
    "            colours.get(draw[-1], 0)\n",
    "            )\n",
    "    games[no]=colours\n",
    "\n",
    "# compare each draw with top colors\n",
    "top = {'red':12, 'green':13, 'blue':14}\n",
    "possible_games = []\n",
    "for no, max_draws in games.items():\n",
    "    possible=True\n",
    "    for colour, count in top.items():\n",
    "        if max_draws[colour]>count:\n",
    "            possible=False\n",
    "            break\n",
    "    if possible:\n",
    "        possible_games.append(no)\n",
    "\n",
    "print('question 1:')\n",
    "print(sum(possible_games))\n",
    "\n",
    "# multiply...\n",
    "maximum=[]\n",
    "for max_draws in games.values():\n",
    "    total=1\n",
    "    for count in max_draws.values():\n",
    "        total*=count\n",
    "    maximum.append(total)\n",
    "\n",
    "print('question 2:')\n",
    "print(sum(maximum))"
   ]
  }
 ],
 "metadata": {
  "kernelspec": {
   "display_name": "tf",
   "language": "python",
   "name": "python3"
  },
  "language_info": {
   "codemirror_mode": {
    "name": "ipython",
    "version": 3
   },
   "file_extension": ".py",
   "mimetype": "text/x-python",
   "name": "python",
   "nbconvert_exporter": "python",
   "pygments_lexer": "ipython3",
   "version": "3.10.8"
  }
 },
 "nbformat": 4,
 "nbformat_minor": 2
}
