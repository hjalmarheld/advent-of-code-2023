{
 "cells": [
  {
   "cell_type": "code",
   "execution_count": 1,
   "metadata": {},
   "outputs": [],
   "source": [
    "import re\n",
    "\n",
    "def input(\n",
    "        day: int,\n",
    "        sample: bool=True,\n",
    "        listify: bool=False):\n",
    "    if sample:\n",
    "        filename='sample'\n",
    "    else:\n",
    "        filename='input'\n",
    "    with open(f'data/{day}/{filename}.txt') as file:\n",
    "        data = file.read()\n",
    "\n",
    "    if listify:\n",
    "        data = data.splitlines()\n",
    "\n",
    "    return data"
   ]
  },
  {
   "cell_type": "markdown",
   "metadata": {},
   "source": [
    "# Day 1"
   ]
  },
  {
   "cell_type": "code",
   "execution_count": 2,
   "metadata": {},
   "outputs": [
    {
     "name": "stdout",
     "output_type": "stream",
     "text": [
      "question 1\n",
      "53921\n",
      "question 2\n",
      "54676\n"
     ]
    }
   ],
   "source": [
    "inp = input(1, listify=True, sample=False)\n",
    "\n",
    "total = 0 \n",
    "for line in inp:\n",
    "    nums = [char for char in line if char.isnumeric()]\n",
    "    total += int(nums[0]+nums[-1])\n",
    "\n",
    "print('question 1')\n",
    "print(total)\n",
    "\n",
    "numbers = ['one', 'two', 'three', 'four', 'five', 'six', 'seven', 'eight', 'nine']\n",
    "\n",
    "total = 0 \n",
    "for line in inp:\n",
    "    for i, num in enumerate(numbers):\n",
    "        line = line.replace(num, num+str(i+1)+num)\n",
    "    nums = [char for char in line if char.isnumeric()]\n",
    "    total += int(nums[0]+nums[-1])\n",
    "\n",
    "print('question 2')\n",
    "print(total)"
   ]
  },
  {
   "cell_type": "markdown",
   "metadata": {},
   "source": [
    "# Day 2"
   ]
  },
  {
   "cell_type": "code",
   "execution_count": 3,
   "metadata": {},
   "outputs": [
    {
     "name": "stdout",
     "output_type": "stream",
     "text": [
      "question 1:\n",
      "8\n",
      "question 2:\n",
      "2286\n"
     ]
    }
   ],
   "source": [
    "inp = input(2, listify=True, sample=True)\n",
    "\n",
    "# parse input such that\n",
    "# games = {\n",
    "#   1: ['3 blue', '4 red', '1 red', '2 green'...]\n",
    "#   ...\n",
    "#   }\n",
    "games = {\n",
    "    int(game.split(':')[0].split()[1]):\n",
    "    game.split(':')[1].replace('; ',', ').strip().split(', ')\n",
    "    for game in inp}\n",
    "\n",
    "# get max draw of each colour for each game such that\n",
    "# games = {\n",
    "#   1: {'blue': 6, 'red': 4, 'green': 2}\n",
    "#   ...\n",
    "#   }\n",
    "for no, game in games.items():\n",
    "    colours={}\n",
    "    for draw in game:\n",
    "        draw = draw.split()\n",
    "        colours[draw[-1]] = max(\n",
    "            int(draw[0]),\n",
    "            colours.get(draw[-1], 0)\n",
    "            )\n",
    "    games[no]=colours\n",
    "\n",
    "# compare each draw with top colors\n",
    "top = {'red':12, 'green':13, 'blue':14}\n",
    "possible_games = []\n",
    "for no, max_draws in games.items():\n",
    "    possible=True\n",
    "    for colour, count in top.items():\n",
    "        if max_draws[colour]>count:\n",
    "            possible=False\n",
    "            break\n",
    "    if possible:\n",
    "        possible_games.append(no)\n",
    "\n",
    "print('question 1:')\n",
    "print(sum(possible_games))\n",
    "\n",
    "# multiply...\n",
    "maximum=[]\n",
    "for max_draws in games.values():\n",
    "    total=1\n",
    "    for count in max_draws.values():\n",
    "        total*=count\n",
    "    maximum.append(total)\n",
    "\n",
    "print('question 2:')\n",
    "print(sum(maximum))"
   ]
  },
  {
   "cell_type": "markdown",
   "metadata": {},
   "source": [
    "# Day 3"
   ]
  },
  {
   "cell_type": "code",
   "execution_count": 4,
   "metadata": {},
   "outputs": [
    {
     "name": "stdout",
     "output_type": "stream",
     "text": [
      "question 1\n",
      "4361\n",
      "question 2\n",
      "467835\n"
     ]
    }
   ],
   "source": [
    "inp = input(3, listify=True, sample=True)\n",
    "\n",
    "class Num:\n",
    "    def __init__(self, min_x, max_x, y, value, M):\n",
    "        self.min_x = min_x\n",
    "        self.max_x = max_x\n",
    "        self.y = y\n",
    "        self.value = int(value)\n",
    "        self.M = M\n",
    "        self.geared = False\n",
    "        self.get_coords()\n",
    "        self.check_value()\n",
    "\n",
    "    # get coordinates for adjacent values\n",
    "    def get_coords(self):\n",
    "        _coords = []\n",
    "        for i in range(self.min_x-1, self.max_x+1):\n",
    "            _coords.append((i, self.y-1))\n",
    "            _coords.append((i, self.y+1))\n",
    "        _coords.append((self.min_x-1, self.y))\n",
    "        _coords.append((self.max_x, self.y))\n",
    "        self.coords = []\n",
    "        for i in _coords:\n",
    "            if (len(self.M[0]))>i[0]>=0 and len(self.M)>i[1]>=0:\n",
    "                self.coords.append(i)\n",
    "\n",
    "    # check adjacent if attached or geared\n",
    "    def check_value(self):\n",
    "        keep = False\n",
    "        for coord in self.coords:\n",
    "            if self.M[coord[1]][coord[0]]!='.':\n",
    "                keep = True\n",
    "            if self.M[coord[1]][coord[0]]=='*':\n",
    "                self.geared=coord\n",
    "        if not keep:\n",
    "            self.value=0\n",
    "\n",
    "q1 = 0\n",
    "q2 = 0\n",
    "seen_gears = {}\n",
    "\n",
    "for y, row in enumerate(inp):\n",
    "    for i in re.finditer('[0-9]+', row):\n",
    "        num = Num(\n",
    "            min_x=i.start(),\n",
    "            max_x=i.end(),\n",
    "            y=y,\n",
    "            value=i.group(),\n",
    "            M=inp\n",
    "        )\n",
    "\n",
    "        q1 += num.value\n",
    "        \n",
    "        if num.geared:\n",
    "            if num.geared in seen_gears:\n",
    "                q2 += num.value*seen_gears[num.geared]\n",
    "            else:\n",
    "                seen_gears[num.geared] = num.value\n",
    "\n",
    "print('question 1')\n",
    "print(q1)\n",
    "print('question 2')\n",
    "print(q2)"
   ]
  }
 ],
 "metadata": {
  "kernelspec": {
   "display_name": "tf",
   "language": "python",
   "name": "python3"
  },
  "language_info": {
   "codemirror_mode": {
    "name": "ipython",
    "version": 3
   },
   "file_extension": ".py",
   "mimetype": "text/x-python",
   "name": "python",
   "nbconvert_exporter": "python",
   "pygments_lexer": "ipython3",
   "version": "3.10.8"
  }
 },
 "nbformat": 4,
 "nbformat_minor": 2
}
