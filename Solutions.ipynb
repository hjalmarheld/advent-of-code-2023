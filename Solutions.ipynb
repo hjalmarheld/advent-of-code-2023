{
 "cells": [
  {
   "cell_type": "markdown",
   "metadata": {},
   "source": [
    "### Finished days:\n",
    "\n",
    "[Day 1](#day-1)\n",
    "\n",
    "[Day 2](#day-2)\n",
    "\n",
    "[Day 3](#day-3)\n",
    "\n",
    "[Day 4](#day-4)\n",
    "\n",
    "[Day 5](#day-5)\n",
    "\n",
    "[Day 6](#day-6)\n",
    "\n",
    "[Day 7](#day-7)\n",
    "\n",
    "[Day 8](#day-8)\n",
    "\n",
    "[Day 9](#day-9)\n",
    "\n",
    "[Day 10](#day-10)\n",
    "\n",
    "[Day 11](#day-11)\n",
    "\n",
    "[Day 12](#day-12)\n",
    "\n",
    "[Day 13](#day-13)"
   ]
  },
  {
   "cell_type": "code",
   "execution_count": 184,
   "metadata": {},
   "outputs": [],
   "source": [
    "import re\n",
    "from collections import Counter, deque\n",
    "from itertools import combinations\n",
    "from functools import cache\n",
    "from math import lcm\n",
    "from utils import *"
   ]
  },
  {
   "cell_type": "markdown",
   "metadata": {},
   "source": [
    "# Day 1"
   ]
  },
  {
   "cell_type": "code",
   "execution_count": 185,
   "metadata": {},
   "outputs": [
    {
     "name": "stdout",
     "output_type": "stream",
     "text": [
      "question 1\n",
      "53921\n",
      "question 2\n",
      "54676\n"
     ]
    }
   ],
   "source": [
    "inp = input(1, listify=True, sample=False)\n",
    "\n",
    "total = 0 \n",
    "for line in inp:\n",
    "    nums = [char for char in line if char.isnumeric()]\n",
    "    total += int(nums[0]+nums[-1])\n",
    "\n",
    "print('question 1')\n",
    "print(total)\n",
    "\n",
    "numbers = ['one', 'two', 'three', 'four', 'five', 'six', 'seven', 'eight', 'nine']\n",
    "\n",
    "total = 0 \n",
    "for line in inp:\n",
    "    for i, num in enumerate(numbers):\n",
    "        line = line.replace(num, num+str(i+1)+num)\n",
    "    nums = [char for char in line if char.isnumeric()]\n",
    "    total += int(nums[0]+nums[-1])\n",
    "\n",
    "print('question 2')\n",
    "print(total)"
   ]
  },
  {
   "cell_type": "markdown",
   "metadata": {},
   "source": [
    "# Day 2"
   ]
  },
  {
   "cell_type": "code",
   "execution_count": 186,
   "metadata": {},
   "outputs": [
    {
     "name": "stdout",
     "output_type": "stream",
     "text": [
      "question 1:\n",
      "8\n",
      "question 2:\n",
      "2286\n"
     ]
    }
   ],
   "source": [
    "inp = input(2, listify=True, sample=True)\n",
    "\n",
    "# parse input such that\n",
    "# games = {\n",
    "#   1: ['3 blue', '4 red', '1 red', '2 green'...]\n",
    "#   ...\n",
    "#   }\n",
    "games = {\n",
    "    int(game.split(':')[0].split()[1]):\n",
    "    game.split(':')[1].replace('; ',', ').strip().split(', ')\n",
    "    for game in inp}\n",
    "\n",
    "# get max draw of each colour for each game such that\n",
    "# games = {\n",
    "#   1: {'blue': 6, 'red': 4, 'green': 2}\n",
    "#   ...\n",
    "#   }\n",
    "for no, game in games.items():\n",
    "    colours={}\n",
    "    for draw in game:\n",
    "        draw = draw.split()\n",
    "        colours[draw[-1]] = max(\n",
    "            int(draw[0]),\n",
    "            colours.get(draw[-1], 0)\n",
    "            )\n",
    "    games[no]=colours\n",
    "\n",
    "# compare each draw with top colors\n",
    "top = {'red':12, 'green':13, 'blue':14}\n",
    "possible_games = []\n",
    "for no, max_draws in games.items():\n",
    "    possible=True\n",
    "    for colour, count in top.items():\n",
    "        if max_draws[colour]>count:\n",
    "            possible=False\n",
    "            break\n",
    "    if possible:\n",
    "        possible_games.append(no)\n",
    "\n",
    "print('question 1:')\n",
    "print(sum(possible_games))\n",
    "\n",
    "# multiply...\n",
    "maximum=[]\n",
    "for max_draws in games.values():\n",
    "    total=1\n",
    "    for count in max_draws.values():\n",
    "        total*=count\n",
    "    maximum.append(total)\n",
    "\n",
    "print('question 2:')\n",
    "print(sum(maximum))"
   ]
  },
  {
   "cell_type": "markdown",
   "metadata": {},
   "source": [
    "# Day 3"
   ]
  },
  {
   "cell_type": "code",
   "execution_count": 187,
   "metadata": {},
   "outputs": [
    {
     "name": "stdout",
     "output_type": "stream",
     "text": [
      "question 1:\n",
      "4361\n",
      "question 2:\n",
      "467835\n"
     ]
    }
   ],
   "source": [
    "inp = input(3, listify=True, sample=True)\n",
    "\n",
    "class Num:\n",
    "    def __init__(self, min_x, max_x, y, value, M):\n",
    "        self.min_x = min_x\n",
    "        self.max_x = max_x\n",
    "        self.y = y\n",
    "        self.value = int(value)\n",
    "        self.M = M\n",
    "        self.geared = False\n",
    "        self.get_coords()\n",
    "        self.check_value()\n",
    "\n",
    "    # get coordinates for adjacent values\n",
    "    def get_coords(self):\n",
    "        _coords = []\n",
    "        for i in range(self.min_x-1, self.max_x+1):\n",
    "            _coords.append((i, self.y-1))\n",
    "            _coords.append((i, self.y+1))\n",
    "        _coords.append((self.min_x-1, self.y))\n",
    "        _coords.append((self.max_x, self.y))\n",
    "        self.coords = []\n",
    "        for i in _coords:\n",
    "            if (len(self.M[0]))>i[0]>=0 and len(self.M)>i[1]>=0:\n",
    "                self.coords.append(i)\n",
    "\n",
    "    # check adjacent if attached or geared\n",
    "    def check_value(self):\n",
    "        keep = False\n",
    "        for coord in self.coords:\n",
    "            if self.M[coord[1]][coord[0]]!='.':\n",
    "                keep = True\n",
    "            if self.M[coord[1]][coord[0]]=='*':\n",
    "                self.geared=coord\n",
    "        if not keep:\n",
    "            self.value=0\n",
    "\n",
    "q1 = 0\n",
    "q2 = 0\n",
    "seen_gears = {}\n",
    "\n",
    "for y, row in enumerate(inp):\n",
    "    for i in re.finditer('[0-9]+', row):\n",
    "        num = Num(\n",
    "            min_x=i.start(),\n",
    "            max_x=i.end(),\n",
    "            y=y,\n",
    "            value=i.group(),\n",
    "            M=inp\n",
    "        )\n",
    "\n",
    "        q1 += num.value\n",
    "        \n",
    "        if num.geared:\n",
    "            if num.geared in seen_gears:\n",
    "                q2 += num.value*seen_gears[num.geared]\n",
    "            else:\n",
    "                seen_gears[num.geared] = num.value\n",
    "\n",
    "print(f'question 1:\\n{q1}\\nquestion 2:\\n{q2}')"
   ]
  },
  {
   "cell_type": "markdown",
   "metadata": {},
   "source": [
    "# Day 4"
   ]
  },
  {
   "cell_type": "code",
   "execution_count": 188,
   "metadata": {},
   "outputs": [
    {
     "name": "stdout",
     "output_type": "stream",
     "text": [
      "question 1:\n",
      "23941\n",
      "question 2:\n",
      "5571760\n"
     ]
    }
   ],
   "source": [
    "inp = input(4, listify=True, sample=False)\n",
    "winning = [i.split(':')[1].split('|')[0].split() for i in inp]\n",
    "have = [i.split(':')[1].split('|')[1].split() for i in inp]\n",
    "wins = [len(set(h).intersection(set(w)))for h, w in zip(winning, have)]\n",
    "q1 = sum([2**(i-1) for i in wins if i>0])\n",
    "\n",
    "count = [1 for _ in wins]\n",
    "for i, c in enumerate(count):\n",
    "    w = wins[i]\n",
    "    for j in range(i+1, i+1+w):\n",
    "        if j < len(count):\n",
    "            count[j]+=c\n",
    "q2 = sum(count)\n",
    "\n",
    "print(f'question 1:\\n{q1}\\nquestion 2:\\n{q2}')"
   ]
  },
  {
   "cell_type": "markdown",
   "metadata": {},
   "source": [
    "# Day 5"
   ]
  },
  {
   "cell_type": "code",
   "execution_count": 189,
   "metadata": {},
   "outputs": [
    {
     "name": "stdout",
     "output_type": "stream",
     "text": [
      "question 1:\n",
      "910845529\n",
      "question 2:\n",
      "77435348\n"
     ]
    }
   ],
   "source": [
    "inp = input(5, sample=False)\n",
    "seeds = [int(i) for i in inp.split('\\n\\n')[0].split()[1:]]\n",
    "recipes = inp.split('\\n\\n')[1:]\n",
    "recipes = [i.splitlines()[1:] for i in recipes]\n",
    "\n",
    "class Instruction:\n",
    "    def __init__(self, lines):\n",
    "        self.maps = [[int(i) for i in line.split()] for line in lines]\n",
    "\n",
    "    def match(self, seed):\n",
    "        for (destination, source, size) in self.maps:\n",
    "            if source<=seed<source+size:\n",
    "                return seed+destination-source\n",
    "        return seed\n",
    "\n",
    "    def match2(self, seeds):\n",
    "        answers = []\n",
    "        for (destination, source, size) in self.maps:\n",
    "            source_end = source+size\n",
    "            new_seeds = []\n",
    "            \n",
    "            while seeds:\n",
    "                start, end = seeds.pop()\n",
    "                \n",
    "                before_range = (start, min(end, source))\n",
    "                if before_range[1]>before_range[0]:\n",
    "                    new_seeds.append(before_range)\n",
    "\n",
    "                after_range = (max(source_end, start), end)\n",
    "                if after_range[1]>after_range[0]:\n",
    "                    new_seeds.append(after_range)\n",
    "\n",
    "                intersection = (max(start, source), min(source_end, end))\n",
    "                if intersection[1]>intersection[0]:\n",
    "                    answers.append((intersection[0]-source+destination, intersection[1]-source+destination))\n",
    "\n",
    "            seeds = new_seeds\n",
    "        return answers+new_seeds\n",
    "\n",
    "instructions  = [Instruction(recipe) for recipe in recipes]\n",
    "\n",
    "destinations = []\n",
    "for seed in seeds:\n",
    "    dest = seed\n",
    "    for instruction in instructions:\n",
    "        dest = instruction.match(dest)\n",
    "    destinations.append(dest)\n",
    "q1 = min(destinations)\n",
    "\n",
    "\n",
    "destinations = []\n",
    "for start, size in zip(seeds[::2], seeds[1::2]):\n",
    "  seed_range = [(start, start+size)] \n",
    "  for instruction in instructions:\n",
    "    seed_range = instruction.match2(seed_range)\n",
    "  destinations.append(min(seed_range)[0])\n",
    "q2 = min(destinations)\n",
    "\n",
    "print(f'question 1:\\n{q1}\\nquestion 2:\\n{q2}')"
   ]
  },
  {
   "cell_type": "markdown",
   "metadata": {},
   "source": [
    "# Day 6"
   ]
  },
  {
   "cell_type": "code",
   "execution_count": 190,
   "metadata": {},
   "outputs": [
    {
     "name": "stdout",
     "output_type": "stream",
     "text": [
      "question 1:\n",
      "1084752\n",
      "question 2:\n",
      "28228952\n"
     ]
    }
   ],
   "source": [
    "inp = input(6, listify=True, sample=False)\n",
    "races = [[int(k) for k in re.findall('\\d+', i )] for i in  inp]\n",
    "ways = 1\n",
    "for time, dist in zip(races[0], races[1]):\n",
    "    _ways = 0\n",
    "    for i in range(1, time):\n",
    "        if (time-i)*i>dist:\n",
    "            _ways += 1\n",
    "    ways*=_ways\n",
    "\n",
    "q1 = ways\n",
    "\n",
    "time, dist = [int(i.split(':')[1].replace(' ','')) for i in inp]\n",
    "# i**2 - time*i + dist == 0 =>\n",
    "a = time/2 + ((time/2)**2 - dist)**.5\n",
    "b = time/2 - ((time/2)**2 - dist)**.5\n",
    "\n",
    "q2 = int(a)-int(b)\n",
    "\n",
    "print(f'question 1:\\n{q1}\\nquestion 2:\\n{q2}')"
   ]
  },
  {
   "cell_type": "markdown",
   "metadata": {},
   "source": [
    "# Day 7"
   ]
  },
  {
   "cell_type": "code",
   "execution_count": 191,
   "metadata": {},
   "outputs": [
    {
     "name": "stdout",
     "output_type": "stream",
     "text": [
      "question 1:\n",
      "6440\n",
      "question 2:\n",
      "5905\n"
     ]
    }
   ],
   "source": [
    "inp = input(7, listify=True, sample=True)\n",
    "inp = {i.split()[0]:int(i.split()[1]) for i in inp}\n",
    "\n",
    "def pair_val(key):\n",
    "    hand = Counter(key).values()\n",
    "    if 5 in hand:\n",
    "        pair = 6\n",
    "    elif 4 in hand:\n",
    "        pair = 5\n",
    "    elif 3 in hand and 2 in hand:\n",
    "        pair = 4\n",
    "    elif 3 in hand:\n",
    "        pair = 3\n",
    "    elif list(hand).count(2)==2:\n",
    "        pair = 2\n",
    "    elif 2 in hand:\n",
    "        pair = 1\n",
    "    else:\n",
    "        pair = 0\n",
    "    return pair*10**11\n",
    "\n",
    "cards = [\n",
    "    '2', '3', '4',\n",
    "    '5', '6', '7',\n",
    "    '8', '9', 'T',\n",
    "    'J', 'Q', 'K',\n",
    "    'A']\n",
    "\n",
    "def order_val(key):\n",
    "    order = ''\n",
    "    for k in key:\n",
    "        val = str(cards.index(k))\n",
    "        if len(val)==1:\n",
    "            order+='0'+val\n",
    "        else:\n",
    "            order+=val\n",
    "    return int(order)\n",
    "\n",
    "\n",
    "q1 = 0\n",
    "values = {}\n",
    "for key in inp:\n",
    "    pair = pair_val(key)\n",
    "    order = order_val(key)\n",
    "    values[pair+order]=key\n",
    "for i, key in enumerate(sorted(values.keys())):\n",
    "    q1 += (i+1)*inp[values[key]]\n",
    "\n",
    "q2 = 0\n",
    "values = {}\n",
    "cards = [\n",
    "    'J', '2', '3',\n",
    "    '4', '5', '6',\n",
    "    '7', '8', '9',\n",
    "    'T', 'Q', 'K',\n",
    "    'A']\n",
    "for key in inp:\n",
    "    if 'J' in key and len(set(key))>1:\n",
    "        key2 = key.replace(\n",
    "            'J',\n",
    "            Counter(key.replace('J','')).most_common(1)[0][0]\n",
    "            )\n",
    "    else:\n",
    "        key2 = key\n",
    "    pair = pair_val(key2)\n",
    "    order = order_val(key)\n",
    "    values[pair+order]=key\n",
    "for i, key in enumerate(sorted(values.keys())):\n",
    "    q2 += (i+1)*inp[values[key]]\n",
    "\n",
    "print(f'question 1:\\n{q1}\\nquestion 2:\\n{q2}')"
   ]
  },
  {
   "cell_type": "markdown",
   "metadata": {},
   "source": [
    "# Day 8"
   ]
  },
  {
   "cell_type": "code",
   "execution_count": 192,
   "metadata": {},
   "outputs": [
    {
     "name": "stdout",
     "output_type": "stream",
     "text": [
      "question 1:\n",
      "20659\n",
      "question 2:\n",
      "15690466351717\n"
     ]
    }
   ],
   "source": [
    "directions, nodes = input(8, sample=False).split('\\n\\n')\n",
    "\n",
    "graph = {}\n",
    "for node in nodes.splitlines():\n",
    "    name, left, right = re.findall('[0-9A-Z]+', node)\n",
    "    graph[name] = {}\n",
    "    graph[name]['L'] = left\n",
    "    graph[name]['R'] = right\n",
    "\n",
    "\n",
    "position, goal, steps = 'AAA', 'ZZZ', 0\n",
    "while position!=goal:\n",
    "    position = graph[position][directions[steps%len(directions)]]\n",
    "    steps+=1\n",
    "\n",
    "q1 = steps\n",
    "\n",
    "start_nodes, end_nodes, steps = set(), set(), []\n",
    "for node in graph:\n",
    "    if node[-1]=='A':\n",
    "        start_nodes.add(node)\n",
    "    if node[-1]=='Z':\n",
    "        end_nodes.add(node)\n",
    "\n",
    "for node in start_nodes:\n",
    "    position = node\n",
    "    _steps = 0\n",
    "    while position not in end_nodes:\n",
    "        position = graph[position][directions[_steps%len(directions)]]\n",
    "        _steps+=1\n",
    "    steps.append(_steps)\n",
    "\n",
    "q2 = lcm(*steps)\n",
    "\n",
    "print(f'question 1:\\n{q1}\\nquestion 2:\\n{q2}')"
   ]
  },
  {
   "cell_type": "markdown",
   "metadata": {},
   "source": [
    "# Day 9"
   ]
  },
  {
   "cell_type": "code",
   "execution_count": 193,
   "metadata": {},
   "outputs": [
    {
     "name": "stdout",
     "output_type": "stream",
     "text": [
      "question 1:\n",
      "2101499000\n",
      "question 2:\n",
      "1089\n"
     ]
    }
   ],
   "source": [
    "inp = input(9, listify=True, sample=False)\n",
    "inp = [list(map(int, i.split())) for i in inp]\n",
    "\n",
    "q1, q2 = 0, 0\n",
    "for i in inp: \n",
    "    levels = [i]\n",
    "    while set(levels[-1])!=set([0]):\n",
    "        level = []\n",
    "        for i in range(len(levels[-1])-1):\n",
    "            level.append(levels[-1][i+1]-levels[-1][i])\n",
    "        levels.append(level)\n",
    "    \n",
    "    next_val = sum([l[-1] for l in levels])\n",
    "    q1+=next_val\n",
    "\n",
    "    ls = [l[0] for l in levels]\n",
    "    next_val2 = 0\n",
    "    for l in ls[::-1]:\n",
    "        next_val2 = l-next_val2\n",
    "    q2+=next_val2\n",
    "\n",
    "print(f'question 1:\\n{q1}\\nquestion 2:\\n{q2}')"
   ]
  },
  {
   "cell_type": "markdown",
   "metadata": {},
   "source": [
    "# Day 10"
   ]
  },
  {
   "cell_type": "code",
   "execution_count": 194,
   "metadata": {},
   "outputs": [
    {
     "name": "stdout",
     "output_type": "stream",
     "text": [
      "question 1:\n",
      "6867\n",
      "question 2:\n",
      "595\n"
     ]
    }
   ],
   "source": [
    "M = input(10, sample=False, arrayify=True)\n",
    "\n",
    "for x in range(len(M)):\n",
    "  for y in range(len(M[0])):\n",
    "    if M[x][y]=='S':\n",
    "      x1, y1 = x, y\n",
    "      up = (M[x-1][y] in ['|','7','F'])\n",
    "      right = (M[x][y+1] in ['-','7','J'])\n",
    "      down = (M[x+1][y] in ['|','L','J'])\n",
    "      left = (M[x][y-1] in ['-','L','F'])\n",
    "\n",
    "      if up and down:\n",
    "        M[x][y]='|'\n",
    "        d1 = 0\n",
    "      elif up and right:\n",
    "        M[x][y]='L'\n",
    "        d1 = 0\n",
    "      elif up and left:\n",
    "        M[x][y]='J'\n",
    "        d1 = 0\n",
    "      elif down and right:\n",
    "        M[x][y]='F'\n",
    "        d1 = 2\n",
    "      elif down and left:\n",
    "        M[x][y]='7'\n",
    "        d1 = 2\n",
    "      elif left and right:\n",
    "        M[x][y]='-'\n",
    "        d1 = 1\n",
    "\n",
    "x, y, d = x1, y1, d1\n",
    "dist = 0\n",
    "while True:\n",
    "  dist += 1\n",
    "  x += [-1,0,1,0][d]\n",
    "  y += [0,1,0,-1][d]\n",
    "  if (x,y) == (x1,y1):\n",
    "    q1=dist//2\n",
    "    break\n",
    "  elif M[x][y] in ['-', '|']:\n",
    "    pass\n",
    "  elif M[x][y]=='L':\n",
    "    if d==2:\n",
    "      d = 1\n",
    "    else:\n",
    "      d = 0\n",
    "  elif M[x][y]=='J':\n",
    "    if d==1:\n",
    "      d = 0\n",
    "    else:\n",
    "      d = 3\n",
    "  elif M[x][y]=='7':\n",
    "    if d==0:\n",
    "      d = 3\n",
    "    else:\n",
    "      d = 2\n",
    "  elif M[x][y]=='F':\n",
    "    if d==0:\n",
    "      d = 1\n",
    "    else:\n",
    "      d = 2\n",
    "  \n",
    "\n",
    "R2 = 3*len(M)\n",
    "C2 = 3*len(M[0])\n",
    "M2 = [['.' for _ in range(C2)] for _ in range(R2)]\n",
    "for x in range(len(M)):\n",
    "  for y in range(len(M[0])):\n",
    "    if M[x][y]=='|':\n",
    "      M2[3*x+0][3*y+1] = '#'\n",
    "      M2[3*x+1][3*y+1] = '#'\n",
    "      M2[3*x+2][3*y+1] = '#'\n",
    "    elif M[x][y]=='-':\n",
    "      M2[3*x+1][3*y+0] = '#'\n",
    "      M2[3*x+1][3*y+1] = '#'\n",
    "      M2[3*x+1][3*y+2] = '#'\n",
    "    elif M[x][y]=='7':\n",
    "      M2[3*x+1][3*y+0] = '#'\n",
    "      M2[3*x+1][3*y+1] = '#'\n",
    "      M2[3*x+2][3*y+1] = '#'\n",
    "    elif M[x][y]=='F':\n",
    "      M2[3*x+2][3*y+1] = '#'\n",
    "      M2[3*x+1][3*y+1] = '#'\n",
    "      M2[3*x+1][3*y+2] = '#'\n",
    "    elif M[x][y]=='J':\n",
    "      M2[3*x+1][3*y+0] = '#'\n",
    "      M2[3*x+1][3*y+1] = '#'\n",
    "      M2[3*x+0][3*y+1] = '#'\n",
    "    elif M[x][y]=='L':\n",
    "      M2[3*x+0][3*y+1] = '#'\n",
    "      M2[3*x+1][3*y+1] = '#'\n",
    "      M2[3*x+1][3*y+2] = '#'\n",
    "\n",
    "\n",
    "to_visit = deque()\n",
    "seen = set()\n",
    "# up right down left\n",
    "for x in range(R2):\n",
    "  to_visit.append((x,0))\n",
    "  to_visit.append((x,C2-1))\n",
    "for y in range(C2):\n",
    "  to_visit.append((0,y))\n",
    "  to_visit.append((R2-1,y))\n",
    "while to_visit:\n",
    "  x,y = to_visit.popleft()\n",
    "  if (x,y) in seen or not (0<=x<R2 and 0<=y<C2):\n",
    "    continue\n",
    "  seen.add((x,y))\n",
    "  if M2[x][y]=='#':\n",
    "    continue\n",
    "  for d in range(4):\n",
    "    to_visit.append((x+[-1,0,1,0][d],y+[0,1,0,-1][d]))\n",
    "\n",
    "q2 = 0\n",
    "for x in range(len(M)):\n",
    "  for y in range(len(M[0])):\n",
    "    visited = False\n",
    "    for xx in [0,1,2]:\n",
    "      for yy in [0,1,2]:\n",
    "        if (3*x+xx,3*y+yy) in seen:\n",
    "          visited = True\n",
    "    if not visited:\n",
    "      q2 += 1\n",
    "\n",
    "print(f'question 1:\\n{q1}\\nquestion 2:\\n{q2}')"
   ]
  },
  {
   "cell_type": "markdown",
   "metadata": {},
   "source": [
    "# Day 11"
   ]
  },
  {
   "cell_type": "code",
   "execution_count": 195,
   "metadata": {},
   "outputs": [
    {
     "name": "stdout",
     "output_type": "stream",
     "text": [
      "question 1:\n",
      "9563821\n",
      "question 2:\n",
      "827009909817\n"
     ]
    }
   ],
   "source": [
    "inp = input(11, matrixify=True, sample=False)\n",
    "\n",
    "def expand_rows(M):\n",
    "    M2 = []\n",
    "    for row in M:\n",
    "        M2.append(row)\n",
    "        if not '#' in row:\n",
    "            M2.append(row)\n",
    "    return Matrix(M2)\n",
    "\n",
    "def manhattan(a, b):\n",
    "    return sum(abs(val1-val2) for val1, val2 in zip(a,b))\n",
    "\n",
    "# expand rows, flip, expand cols, flip again\n",
    "future = expand_rows(expand_rows(inp).transpose()).transpose()\n",
    "\n",
    "# get star locations\n",
    "locs_start = inp.get_locs('#')\n",
    "locs_future = future.get_locs('#')\n",
    "\n",
    "# calculate manhattan distances and multiply with delta for q2\n",
    "q1 = sum([manhattan(a, b) for a, b in combinations(locs_future, 2)])\n",
    "q2 = sum([manhattan(a, b) for a, b in combinations(locs_start, 2)])\n",
    "q2 = q2+(q1-q2)*(10**6-1)\n",
    "\n",
    "print(f'question 1:\\n{q1}\\nquestion 2:\\n{q2}')"
   ]
  },
  {
   "cell_type": "markdown",
   "metadata": {},
   "source": [
    "# Day 12"
   ]
  },
  {
   "cell_type": "code",
   "execution_count": 196,
   "metadata": {},
   "outputs": [
    {
     "name": "stdout",
     "output_type": "stream",
     "text": [
      "question 1:\n",
      "7705\n",
      "question 2:\n",
      "50338344809230\n"
     ]
    }
   ],
   "source": [
    "inp = [i.split() for i in input(12, listify=True, sample=False)]\n",
    "rows = [(row, tuple(map(int, size.split(\",\")))) for row, size in inp]\n",
    "@cache\n",
    "def get_num(row, sizes, done=0):\n",
    "    # if not enough left return\n",
    "    if len(row)+done<sum(sizes):\n",
    "        return False\n",
    "    # if end of row return if finished\n",
    "    if not row:\n",
    "        return not sizes and not done\n",
    "    num = 0\n",
    "    # create branching if unknown\n",
    "    chars = [\".\", \"#\"] if row[0] == \"?\" else row[0]\n",
    "    for c in chars:\n",
    "        # if broken keep going on group\n",
    "        if c == \"#\":\n",
    "            num += get_num(row[1:], sizes, done + 1)\n",
    "        # if not then check if previous group done\n",
    "        else:\n",
    "            if done:\n",
    "                if sizes and sizes[0] == done:\n",
    "                    num += get_num(row[1:], sizes[1:])\n",
    "            else:\n",
    "                num += get_num(row[1:], sizes)\n",
    "    return num\n",
    "\n",
    "q1=sum(get_num(group + \".\", sizes) for group, sizes in rows)\n",
    "q2=sum(get_num(\"?\".join([group] * 5) + \".\", sizes * 5) for group, sizes in rows)\n",
    "print(f'question 1:\\n{q1}\\nquestion 2:\\n{q2}')"
   ]
  },
  {
   "cell_type": "markdown",
   "metadata": {},
   "source": [
    "# Day 13"
   ]
  },
  {
   "cell_type": "code",
   "execution_count": 197,
   "metadata": {},
   "outputs": [
    {
     "name": "stdout",
     "output_type": "stream",
     "text": [
      "question 1:\n",
      "37561\n",
      "question 2:\n",
      "31108\n"
     ]
    }
   ],
   "source": [
    "def check_reflection(M, smudges=0):\n",
    "    for i in range(1,len(M)):\n",
    "        if type(M[0])==list:\n",
    "            M = [''.join(i) for i in M]\n",
    "        a = ''.join(M[max(0, 2*i-len(M)):i])\n",
    "        b = ''.join(M[i:2*i][::-1])\n",
    "        if sum([1 for a_, b_ in zip(a, b) if a_!=b_])==smudges:\n",
    "            return i\n",
    "    return 0\n",
    "\n",
    "q1 = q2 = 0\n",
    "for scan in [i.splitlines() for i in input(13, sample=False).split('\\n\\n')]:\n",
    "    q1 += max(\n",
    "        100*check_reflection(scan, 0),\n",
    "        check_reflection(matrix.transpose(scan), 0))\n",
    "    q2 += max(\n",
    "        100*check_reflection(scan, 1),\n",
    "        check_reflection(matrix.transpose(scan), 1))\n",
    "\n",
    "print(f'question 1:\\n{q1}\\nquestion 2:\\n{q2}')"
   ]
  },
  {
   "cell_type": "markdown",
   "metadata": {},
   "source": [
    "# Day 14"
   ]
  },
  {
   "cell_type": "code",
   "execution_count": 198,
   "metadata": {},
   "outputs": [
    {
     "name": "stdout",
     "output_type": "stream",
     "text": [
      "question 1:\n",
      "106990\n",
      "question 2:\n",
      "100531\n"
     ]
    }
   ],
   "source": [
    "M = input(14, arrayify=True, sample=False)\n",
    "\n",
    "def tilt(M):\n",
    "    round = deque(matrix.get_locs(M, 'O'))\n",
    "    while round:\n",
    "        x, y = round.popleft()\n",
    "        if x>0 and M[x-1][y]=='.':\n",
    "            M[x-1][y], M[x][y] = 'O', '.'\n",
    "            round.append((x-1, y))\n",
    "    return M\n",
    "\n",
    "q1 = sum([len(M) - loc[0] for loc in matrix.get_locs(tilt(M), 'O')])\n",
    "\n",
    "i = 1\n",
    "seen = {}\n",
    "while i <= 1000000000:\n",
    "    for spin in range(4):\n",
    "        rocks = tuple(matrix.get_locs(tilt(M), 'O'))\n",
    "        if rocks in seen:\n",
    "            old_i = seen[rocks]\n",
    "            skip = (1000000000 - i) // (i - old_i)\n",
    "            i += (i - old_i) * skip\n",
    "            seen = {}\n",
    "        else:\n",
    "            seen[rocks] = i\n",
    "        M = matrix.turn(tilt(M))\n",
    "    i+=1\n",
    "q2 = sum([len(M) - loc[0] for loc in matrix.get_locs(M, 'O')])\n",
    "\n",
    "print(f'question 1:\\n{q1}\\nquestion 2:\\n{q2}')"
   ]
  },
  {
   "cell_type": "markdown",
   "metadata": {},
   "source": [
    "# Day 15"
   ]
  },
  {
   "cell_type": "code",
   "execution_count": 199,
   "metadata": {},
   "outputs": [
    {
     "name": "stdout",
     "output_type": "stream",
     "text": [
      "question 1:\n",
      "513643\n",
      "question 2:\n",
      "265345\n"
     ]
    }
   ],
   "source": [
    "inp = input(15, sample=False).split(',')\n",
    "\n",
    "def hashmap(code):\n",
    "    val = 0\n",
    "    for char in code:\n",
    "        val = ((val+ord(char))*17)%256\n",
    "    return val\n",
    "\n",
    "q1 = sum([hashmap(code) for code in inp])\n",
    "\n",
    "boxes = [[] for _ in range(256)]\n",
    "for code in inp:\n",
    "    name = re.findall('[a-z]+', code)[0]\n",
    "    box = boxes[hashmap(name)]\n",
    "    if code[-1]=='-':\n",
    "        box = [(n,v) for (n,v) in box if n!=name]\n",
    "    elif code[-2]=='=':\n",
    "        len_ = int(code[-1])\n",
    "        if name in [n for (n,v) in box]:\n",
    "            box = [(n, len_ if name==n else v) for (n,v) in box]\n",
    "        else:\n",
    "            box.append((name, len_))\n",
    "    boxes[hashmap(name)] = box \n",
    "\n",
    "q2 = 0\n",
    "for i,box in enumerate(boxes):\n",
    "  for j,(n,v) in enumerate(box):\n",
    "    q2 += (i+1)*(j+1)*v\n",
    "\n",
    "print(f'question 1:\\n{q1}\\nquestion 2:\\n{q2}')"
   ]
  },
  {
   "cell_type": "markdown",
   "metadata": {},
   "source": [
    "# Day 16"
   ]
  },
  {
   "cell_type": "code",
   "execution_count": 200,
   "metadata": {},
   "outputs": [
    {
     "name": "stdout",
     "output_type": "stream",
     "text": [
      "question 1:\n",
      "7111\n",
      "question 2:\n",
      "7831\n"
     ]
    }
   ],
   "source": [
    "inp = input(16, matrixify=True, sample=False)\n",
    "\n",
    "def walk(r, c, d):\n",
    "    '''\n",
    "    position and direction after \n",
    "    taking one step\n",
    "    '''\n",
    "    dr = [-1, 0, 1, 0]\n",
    "    dc = [0, 1, 0, -1]\n",
    "    return (r+dr[d], c+dc[d], d)\n",
    "\n",
    "def moves(r, c, d, M):\n",
    "    positions = [(r, c, d)]\n",
    "    visited = set()\n",
    "    done = set()\n",
    "    while True:\n",
    "        new_positions = []\n",
    "        if not positions:\n",
    "            break\n",
    "        for r, c, d in positions:\n",
    "            if 0<=r<len(M) and 0<=c<len(M[0]):\n",
    "                visited.add((r, c))\n",
    "                if (r, c, d) in done:\n",
    "                    continue\n",
    "                done.add((r,c,d))\n",
    "                char = M[r,c]\n",
    "                if char=='.':\n",
    "                    new_positions.append(\n",
    "                        walk(r,c,d))\n",
    "                elif char=='/':\n",
    "                    new_positions.append(\n",
    "                        walk(r,c,{0:1, 1:0, 2:3, 3:2}[d]))\n",
    "                elif char=='\\\\':\n",
    "                    new_positions.append(\n",
    "                        walk(r,c,{0:3, 1:2, 2:1, 3:0}[d]))\n",
    "                elif char=='|':\n",
    "                    if d in [0,2]:\n",
    "                        new_positions.append(\n",
    "                            walk(r,c,d))\n",
    "                    else:\n",
    "                        new_positions.append(\n",
    "                            walk(r, c, 0))\n",
    "                        new_positions.append(\n",
    "                            walk(r, c, 2))\n",
    "                elif char=='-':\n",
    "                    if d in [1,3]:\n",
    "                        new_positions.append(\n",
    "                            walk(r,c,d))\n",
    "                    else:\n",
    "                        new_positions.append(\n",
    "                            walk(r, c, 1))\n",
    "                        new_positions.append(\n",
    "                            walk(r, c, 3))\n",
    "        positions = new_positions\n",
    "    return len(visited)\n",
    "\n",
    "q1 = moves(0,0,1, inp)\n",
    "\n",
    "q2 = 0\n",
    "rows = len(inp)\n",
    "cols = len(inp[0])\n",
    "for r in range(rows):\n",
    "    q2 = max(moves(r, 0, 1, inp), q2)\n",
    "    q2 = max(moves(r, cols-1, 3, inp), q2)\n",
    "for c in range(cols):\n",
    "    q2 = max(moves(0, c, 2, inp), q2)\n",
    "    q2 = max(moves(rows-1, c, 0, inp), q2)\n",
    "\n",
    "print(f'question 1:\\n{q1}\\nquestion 2:\\n{q2}')"
   ]
  },
  {
   "cell_type": "markdown",
   "metadata": {},
   "source": [
    "# Day 17"
   ]
  },
  {
   "cell_type": "markdown",
   "metadata": {},
   "source": [
    "# Day 18"
   ]
  },
  {
   "cell_type": "code",
   "execution_count": 201,
   "metadata": {},
   "outputs": [
    {
     "name": "stdout",
     "output_type": "stream",
     "text": [
      "question 1:\n",
      "42317.0\n",
      "question 2:\n",
      "83605563360288.0\n"
     ]
    }
   ],
   "source": [
    "def walk(position, d, steps=1):\n",
    "    r, c = position\n",
    "    dr = {'D':1, 'R':0, 'U':-1, 'L':0}[d]*int(steps)\n",
    "    dc = {'D':0, 'R':1, 'U':0, 'L':-1}[d]*int(steps)\n",
    "    return (r+dr, c+dc)\n",
    "\n",
    "def area(p):\n",
    "    return 0.5 * abs(sum(x0*y1 - x1*y0\n",
    "        for ((x0, y0), (x1, y1))\n",
    "        in zip(p, p[1:] + [p[0]])))\n",
    "\n",
    "position = position2 = (0, 0)\n",
    "seen1, seen2 = [], []\n",
    "walked1 = walked2 = 0\n",
    "for row in input(18, listify=True, sample=False):\n",
    "    dir, steps, colour = row.split()\n",
    "\n",
    "    seen1.append(position:=walk(\n",
    "        position,\n",
    "        dir,\n",
    "        steps))\n",
    "    walked1 += int(steps)\n",
    "\n",
    "    seen2.append(position2:=walk(\n",
    "        position2,\n",
    "        'RDLU'[int(colour[-2])],\n",
    "        steps:=int(colour[1:-2].replace('#', '0'), 16)))\n",
    "    walked2 += steps\n",
    "\n",
    "q1 = area(seen1)+walked1/2+1\n",
    "q2 = area(seen2)+walked2/2+1\n",
    "\n",
    "print(f'question 1:\\n{q1}\\nquestion 2:\\n{q2}')"
   ]
  },
  {
   "cell_type": "markdown",
   "metadata": {},
   "source": [
    "# Day 19"
   ]
  },
  {
   "cell_type": "code",
   "execution_count": 202,
   "metadata": {},
   "outputs": [
    {
     "name": "stdout",
     "output_type": "stream",
     "text": [
      "question 1:\n",
      "19114\n",
      "question 2:\n",
      "167409079868000\n"
     ]
    }
   ],
   "source": [
    "def cond_parser(conds):\n",
    "    conditions = {}\n",
    "    for cond in conds:\n",
    "        name, conds = cond.split('{')\n",
    "        conds = conds[:-1].split(',')\n",
    "        parsed = []\n",
    "        for cond in conds[:-1]:\n",
    "            cond, dest = cond.split(':')\n",
    "            key, num = cond.split(sep:='>' if '>' in cond else '<')\n",
    "            parsed.append({'var':key, 'num':int(num), 'sep':sep, 'dest':dest})\n",
    "        parsed.append(conds[-1])\n",
    "        conditions[name] = parsed\n",
    "    return conditions\n",
    "\n",
    "def part_parser(parts):\n",
    "    parts_parsed = []\n",
    "    for part in parts:\n",
    "        items = {}\n",
    "        items['total'] = 0\n",
    "        for item in part[1:-1].split(','):\n",
    "            name, value = item.split('=')\n",
    "            items[name] = int(value)\n",
    "            items['total'] += int(value)\n",
    "        parts_parsed.append(items)\n",
    "    return parts_parsed\n",
    "\n",
    "def passing(conditions, parts):\n",
    "    passing = 0\n",
    "    for part in parts:\n",
    "        flow = 'in'\n",
    "        while True:\n",
    "            # see if finished all rules of a flow\n",
    "            if flow in ('A', 'R'):\n",
    "                if flow=='A':\n",
    "                    passing += part['total']\n",
    "                break\n",
    "            cond = conditions[flow]\n",
    "            # else try rules\n",
    "            for rule in cond[:-1]:\n",
    "                # see if passing a rule\n",
    "                if passed:= eval(f'{part[rule[\"var\"]]} {rule[\"sep\"]} {rule[\"num\"]}'):\n",
    "                    break\n",
    "            # return destination if passed\n",
    "            if passed:\n",
    "                flow = rule['dest']\n",
    "            else:\n",
    "                flow = cond[-1]\n",
    "    return passing\n",
    "\n",
    "def new_ranges(rule, ranges):\n",
    "    # create ranges inside and outside of conditions\n",
    "    if rule['sep'] == \">\":\n",
    "        var_in = (rule['num']+1, ranges[rule['var']][1])\n",
    "        var_out = (ranges[rule['var']][0], rule['num'])\n",
    "    else:\n",
    "        var_in = (ranges[rule['var']][0], rule['num']-1)\n",
    "        var_out = (rule['num'], ranges[rule['var']][1])\n",
    "    # avoid changing mutable objects...\n",
    "    inside, outside = ranges.copy(), ranges.copy()\n",
    "    inside[rule['var']], outside[rule['var']] = var_in, var_out\n",
    "    return inside, outside\n",
    "\n",
    "def combos(flow, ranges, conditions):\n",
    "    total = 0\n",
    "    # end of recursion\n",
    "    if flow == \"A\":\n",
    "        total = 1\n",
    "        for low, high in ranges.values():\n",
    "            total*=(high-low+1)\n",
    "        return total\n",
    "    elif flow == \"R\":\n",
    "        return 0\n",
    "    # get rules for a flow\n",
    "    for rule in conditions[flow][:-1]:\n",
    "        # get range passing and outside of rule\n",
    "        inside, outside = new_ranges(rule, ranges)\n",
    "        # send succesful to destination if inside\n",
    "        total += combos(rule['dest'], inside, conditions)\n",
    "        # save outside to try next condition\n",
    "        ranges = outside\n",
    "    # get flow for ranges missing all conditios\n",
    "    total += combos(conditions[flow][-1], outside, conditions)\n",
    "    return total\n",
    "\n",
    "conds, parts = (i.splitlines() for i in input(19, sample=True).split('\\n\\n'))\n",
    "conditions = cond_parser(conds)\n",
    "parts = part_parser(parts)\n",
    "q1 = passing(conditions, parts)\n",
    "q2 = combos('in', {var:(1,4000) for var in 'xmas'}, conditions=conditions)\n",
    "print(f'question 1:\\n{q1}\\nquestion 2:\\n{q2}')"
   ]
  }
 ],
 "metadata": {
  "kernelspec": {
   "display_name": "tf",
   "language": "python",
   "name": "python3"
  },
  "language_info": {
   "codemirror_mode": {
    "name": "ipython",
    "version": 3
   },
   "file_extension": ".py",
   "mimetype": "text/x-python",
   "name": "python",
   "nbconvert_exporter": "python",
   "pygments_lexer": "ipython3",
   "version": "3.10.8"
  }
 },
 "nbformat": 4,
 "nbformat_minor": 2
}
