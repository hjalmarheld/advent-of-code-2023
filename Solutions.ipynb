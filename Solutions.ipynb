{
 "cells": [
  {
   "cell_type": "markdown",
   "metadata": {},
   "source": [
    "### Finished days:\n",
    "\n",
    "[Day 1](#day-1)\n",
    "\n",
    "[Day 2](#day-2)\n",
    "\n",
    "[Day 3](#day-3)\n",
    "\n",
    "[Day 4](#day-4)\n",
    "\n",
    "[Day 5](#day-5)\n",
    "\n",
    "[Day 6](#day-6)\n",
    "\n",
    "[Day 7](#day-7)\n",
    "\n",
    "[Day 8](#day-8)\n",
    "\n",
    "[Day 9](#day-9)\n",
    "\n",
    "[Day 10](#day-10)\n",
    "\n",
    "[Day 11](#day-11)\n",
    "\n",
    "[Day 12](#day-12)\n",
    "\n",
    "[Day 13](#day-13)"
   ]
  },
  {
   "cell_type": "code",
   "execution_count": 1,
   "metadata": {},
   "outputs": [],
   "source": [
    "import re\n",
    "from collections import Counter, deque\n",
    "from itertools import combinations\n",
    "from functools import cache\n",
    "from math import lcm\n",
    "from utils import *"
   ]
  },
  {
   "cell_type": "markdown",
   "metadata": {},
   "source": [
    "# Day 1"
   ]
  },
  {
   "cell_type": "code",
   "execution_count": 2,
   "metadata": {},
   "outputs": [
    {
     "name": "stdout",
     "output_type": "stream",
     "text": [
      "question 1\n",
      "53921\n",
      "question 2\n",
      "54676\n"
     ]
    }
   ],
   "source": [
    "inp = input(1, listify=True, sample=False)\n",
    "\n",
    "total = 0 \n",
    "for line in inp:\n",
    "    nums = [char for char in line if char.isnumeric()]\n",
    "    total += int(nums[0]+nums[-1])\n",
    "\n",
    "print('question 1')\n",
    "print(total)\n",
    "\n",
    "numbers = ['one', 'two', 'three', 'four', 'five', 'six', 'seven', 'eight', 'nine']\n",
    "\n",
    "total = 0 \n",
    "for line in inp:\n",
    "    for i, num in enumerate(numbers):\n",
    "        line = line.replace(num, num+str(i+1)+num)\n",
    "    nums = [char for char in line if char.isnumeric()]\n",
    "    total += int(nums[0]+nums[-1])\n",
    "\n",
    "print('question 2')\n",
    "print(total)"
   ]
  },
  {
   "cell_type": "markdown",
   "metadata": {},
   "source": [
    "# Day 2"
   ]
  },
  {
   "cell_type": "code",
   "execution_count": 3,
   "metadata": {},
   "outputs": [
    {
     "name": "stdout",
     "output_type": "stream",
     "text": [
      "question 1:\n",
      "8\n",
      "question 2:\n",
      "2286\n"
     ]
    }
   ],
   "source": [
    "inp = input(2, listify=True, sample=True)\n",
    "\n",
    "# parse input such that\n",
    "# games = {\n",
    "#   1: ['3 blue', '4 red', '1 red', '2 green'...]\n",
    "#   ...\n",
    "#   }\n",
    "games = {\n",
    "    int(game.split(':')[0].split()[1]):\n",
    "    game.split(':')[1].replace('; ',', ').strip().split(', ')\n",
    "    for game in inp}\n",
    "\n",
    "# get max draw of each colour for each game such that\n",
    "# games = {\n",
    "#   1: {'blue': 6, 'red': 4, 'green': 2}\n",
    "#   ...\n",
    "#   }\n",
    "for no, game in games.items():\n",
    "    colours={}\n",
    "    for draw in game:\n",
    "        draw = draw.split()\n",
    "        colours[draw[-1]] = max(\n",
    "            int(draw[0]),\n",
    "            colours.get(draw[-1], 0)\n",
    "            )\n",
    "    games[no]=colours\n",
    "\n",
    "# compare each draw with top colors\n",
    "top = {'red':12, 'green':13, 'blue':14}\n",
    "possible_games = []\n",
    "for no, max_draws in games.items():\n",
    "    possible=True\n",
    "    for colour, count in top.items():\n",
    "        if max_draws[colour]>count:\n",
    "            possible=False\n",
    "            break\n",
    "    if possible:\n",
    "        possible_games.append(no)\n",
    "\n",
    "print('question 1:')\n",
    "print(sum(possible_games))\n",
    "\n",
    "# multiply...\n",
    "maximum=[]\n",
    "for max_draws in games.values():\n",
    "    total=1\n",
    "    for count in max_draws.values():\n",
    "        total*=count\n",
    "    maximum.append(total)\n",
    "\n",
    "print('question 2:')\n",
    "print(sum(maximum))"
   ]
  },
  {
   "cell_type": "markdown",
   "metadata": {},
   "source": [
    "# Day 3"
   ]
  },
  {
   "cell_type": "code",
   "execution_count": 4,
   "metadata": {},
   "outputs": [
    {
     "name": "stdout",
     "output_type": "stream",
     "text": [
      "question 1:\n",
      "4361\n",
      "question 2:\n",
      "467835\n"
     ]
    }
   ],
   "source": [
    "inp = input(3, listify=True, sample=True)\n",
    "\n",
    "class Num:\n",
    "    def __init__(self, min_x, max_x, y, value, M):\n",
    "        self.min_x = min_x\n",
    "        self.max_x = max_x\n",
    "        self.y = y\n",
    "        self.value = int(value)\n",
    "        self.M = M\n",
    "        self.geared = False\n",
    "        self.get_coords()\n",
    "        self.check_value()\n",
    "\n",
    "    # get coordinates for adjacent values\n",
    "    def get_coords(self):\n",
    "        _coords = []\n",
    "        for i in range(self.min_x-1, self.max_x+1):\n",
    "            _coords.append((i, self.y-1))\n",
    "            _coords.append((i, self.y+1))\n",
    "        _coords.append((self.min_x-1, self.y))\n",
    "        _coords.append((self.max_x, self.y))\n",
    "        self.coords = []\n",
    "        for i in _coords:\n",
    "            if (len(self.M[0]))>i[0]>=0 and len(self.M)>i[1]>=0:\n",
    "                self.coords.append(i)\n",
    "\n",
    "    # check adjacent if attached or geared\n",
    "    def check_value(self):\n",
    "        keep = False\n",
    "        for coord in self.coords:\n",
    "            if self.M[coord[1]][coord[0]]!='.':\n",
    "                keep = True\n",
    "            if self.M[coord[1]][coord[0]]=='*':\n",
    "                self.geared=coord\n",
    "        if not keep:\n",
    "            self.value=0\n",
    "\n",
    "q1 = 0\n",
    "q2 = 0\n",
    "seen_gears = {}\n",
    "\n",
    "for y, row in enumerate(inp):\n",
    "    for i in re.finditer('[0-9]+', row):\n",
    "        num = Num(\n",
    "            min_x=i.start(),\n",
    "            max_x=i.end(),\n",
    "            y=y,\n",
    "            value=i.group(),\n",
    "            M=inp\n",
    "        )\n",
    "\n",
    "        q1 += num.value\n",
    "        \n",
    "        if num.geared:\n",
    "            if num.geared in seen_gears:\n",
    "                q2 += num.value*seen_gears[num.geared]\n",
    "            else:\n",
    "                seen_gears[num.geared] = num.value\n",
    "\n",
    "print(f'question 1:\\n{q1}\\nquestion 2:\\n{q2}')"
   ]
  },
  {
   "cell_type": "markdown",
   "metadata": {},
   "source": [
    "# Day 4"
   ]
  },
  {
   "cell_type": "code",
   "execution_count": 5,
   "metadata": {},
   "outputs": [
    {
     "name": "stdout",
     "output_type": "stream",
     "text": [
      "question 1:\n",
      "23941\n",
      "question 2:\n",
      "5571760\n"
     ]
    }
   ],
   "source": [
    "inp = input(4, listify=True, sample=False)\n",
    "winning = [i.split(':')[1].split('|')[0].split() for i in inp]\n",
    "have = [i.split(':')[1].split('|')[1].split() for i in inp]\n",
    "wins = [len(set(h).intersection(set(w)))for h, w in zip(winning, have)]\n",
    "q1 = sum([2**(i-1) for i in wins if i>0])\n",
    "\n",
    "count = [1 for _ in wins]\n",
    "for i, c in enumerate(count):\n",
    "    w = wins[i]\n",
    "    for j in range(i+1, i+1+w):\n",
    "        if j < len(count):\n",
    "            count[j]+=c\n",
    "q2 = sum(count)\n",
    "\n",
    "print(f'question 1:\\n{q1}\\nquestion 2:\\n{q2}')"
   ]
  },
  {
   "cell_type": "markdown",
   "metadata": {},
   "source": [
    "# Day 5"
   ]
  },
  {
   "cell_type": "code",
   "execution_count": 6,
   "metadata": {},
   "outputs": [
    {
     "name": "stdout",
     "output_type": "stream",
     "text": [
      "question 1:\n",
      "910845529\n",
      "question 2:\n",
      "77435348\n"
     ]
    }
   ],
   "source": [
    "inp = input(5, sample=False)\n",
    "seeds = [int(i) for i in inp.split('\\n\\n')[0].split()[1:]]\n",
    "recipes = inp.split('\\n\\n')[1:]\n",
    "recipes = [i.splitlines()[1:] for i in recipes]\n",
    "\n",
    "class Instruction:\n",
    "    def __init__(self, lines):\n",
    "        self.maps = [[int(i) for i in line.split()] for line in lines]\n",
    "\n",
    "    def match(self, seed):\n",
    "        for (destination, source, size) in self.maps:\n",
    "            if source<=seed<source+size:\n",
    "                return seed+destination-source\n",
    "        return seed\n",
    "\n",
    "    def match2(self, seeds):\n",
    "        answers = []\n",
    "        for (destination, source, size) in self.maps:\n",
    "            source_end = source+size\n",
    "            new_seeds = []\n",
    "            \n",
    "            while seeds:\n",
    "                start, end = seeds.pop()\n",
    "                \n",
    "                before_range = (start, min(end, source))\n",
    "                if before_range[1]>before_range[0]:\n",
    "                    new_seeds.append(before_range)\n",
    "\n",
    "                after_range = (max(source_end, start), end)\n",
    "                if after_range[1]>after_range[0]:\n",
    "                    new_seeds.append(after_range)\n",
    "\n",
    "                intersection = (max(start, source), min(source_end, end))\n",
    "                if intersection[1]>intersection[0]:\n",
    "                    answers.append((intersection[0]-source+destination, intersection[1]-source+destination))\n",
    "\n",
    "            seeds = new_seeds\n",
    "        return answers+new_seeds\n",
    "\n",
    "instructions  = [Instruction(recipe) for recipe in recipes]\n",
    "\n",
    "destinations = []\n",
    "for seed in seeds:\n",
    "    dest = seed\n",
    "    for instruction in instructions:\n",
    "        dest = instruction.match(dest)\n",
    "    destinations.append(dest)\n",
    "q1 = min(destinations)\n",
    "\n",
    "\n",
    "destinations = []\n",
    "for start, size in zip(seeds[::2], seeds[1::2]):\n",
    "  seed_range = [(start, start+size)] \n",
    "  for instruction in instructions:\n",
    "    seed_range = instruction.match2(seed_range)\n",
    "  destinations.append(min(seed_range)[0])\n",
    "q2 = min(destinations)\n",
    "\n",
    "print(f'question 1:\\n{q1}\\nquestion 2:\\n{q2}')"
   ]
  },
  {
   "cell_type": "markdown",
   "metadata": {},
   "source": [
    "# Day 6"
   ]
  },
  {
   "cell_type": "code",
   "execution_count": 7,
   "metadata": {},
   "outputs": [
    {
     "name": "stdout",
     "output_type": "stream",
     "text": [
      "question 1:\n",
      "1084752\n",
      "question 2:\n",
      "28228952\n"
     ]
    }
   ],
   "source": [
    "inp = input(6, listify=True, sample=False)\n",
    "races = [[int(k) for k in re.findall('\\d+', i )] for i in  inp]\n",
    "ways = 1\n",
    "for time, dist in zip(races[0], races[1]):\n",
    "    _ways = 0\n",
    "    for i in range(1, time):\n",
    "        if (time-i)*i>dist:\n",
    "            _ways += 1\n",
    "    ways*=_ways\n",
    "\n",
    "q1 = ways\n",
    "\n",
    "time, dist = [int(i.split(':')[1].replace(' ','')) for i in inp]\n",
    "# i**2 - time*i + dist == 0 =>\n",
    "a = time/2 + ((time/2)**2 - dist)**.5\n",
    "b = time/2 - ((time/2)**2 - dist)**.5\n",
    "\n",
    "q2 = int(a)-int(b)\n",
    "\n",
    "print(f'question 1:\\n{q1}\\nquestion 2:\\n{q2}')"
   ]
  },
  {
   "cell_type": "markdown",
   "metadata": {},
   "source": [
    "# Day 7"
   ]
  },
  {
   "cell_type": "code",
   "execution_count": 8,
   "metadata": {},
   "outputs": [
    {
     "name": "stdout",
     "output_type": "stream",
     "text": [
      "question 1:\n",
      "6440\n",
      "question 2:\n",
      "5905\n"
     ]
    }
   ],
   "source": [
    "inp = input(7, listify=True, sample=True)\n",
    "inp = {i.split()[0]:int(i.split()[1]) for i in inp}\n",
    "\n",
    "def pair_val(key):\n",
    "    hand = Counter(key).values()\n",
    "    if 5 in hand:\n",
    "        pair = 6\n",
    "    elif 4 in hand:\n",
    "        pair = 5\n",
    "    elif 3 in hand and 2 in hand:\n",
    "        pair = 4\n",
    "    elif 3 in hand:\n",
    "        pair = 3\n",
    "    elif list(hand).count(2)==2:\n",
    "        pair = 2\n",
    "    elif 2 in hand:\n",
    "        pair = 1\n",
    "    else:\n",
    "        pair = 0\n",
    "    return pair*10**11\n",
    "\n",
    "cards = [\n",
    "    '2', '3', '4',\n",
    "    '5', '6', '7',\n",
    "    '8', '9', 'T',\n",
    "    'J', 'Q', 'K',\n",
    "    'A']\n",
    "\n",
    "def order_val(key):\n",
    "    order = ''\n",
    "    for k in key:\n",
    "        val = str(cards.index(k))\n",
    "        if len(val)==1:\n",
    "            order+='0'+val\n",
    "        else:\n",
    "            order+=val\n",
    "    return int(order)\n",
    "\n",
    "\n",
    "q1 = 0\n",
    "values = {}\n",
    "for key in inp:\n",
    "    pair = pair_val(key)\n",
    "    order = order_val(key)\n",
    "    values[pair+order]=key\n",
    "for i, key in enumerate(sorted(values.keys())):\n",
    "    q1 += (i+1)*inp[values[key]]\n",
    "\n",
    "q2 = 0\n",
    "values = {}\n",
    "cards = [\n",
    "    'J', '2', '3',\n",
    "    '4', '5', '6',\n",
    "    '7', '8', '9',\n",
    "    'T', 'Q', 'K',\n",
    "    'A']\n",
    "for key in inp:\n",
    "    if 'J' in key and len(set(key))>1:\n",
    "        key2 = key.replace(\n",
    "            'J',\n",
    "            Counter(key.replace('J','')).most_common(1)[0][0]\n",
    "            )\n",
    "    else:\n",
    "        key2 = key\n",
    "    pair = pair_val(key2)\n",
    "    order = order_val(key)\n",
    "    values[pair+order]=key\n",
    "for i, key in enumerate(sorted(values.keys())):\n",
    "    q2 += (i+1)*inp[values[key]]\n",
    "\n",
    "print(f'question 1:\\n{q1}\\nquestion 2:\\n{q2}')"
   ]
  },
  {
   "cell_type": "markdown",
   "metadata": {},
   "source": [
    "# Day 8"
   ]
  },
  {
   "cell_type": "code",
   "execution_count": 9,
   "metadata": {},
   "outputs": [
    {
     "name": "stdout",
     "output_type": "stream",
     "text": [
      "question 1:\n",
      "20659\n",
      "question 2:\n",
      "15690466351717\n"
     ]
    }
   ],
   "source": [
    "directions, nodes = input(8, sample=False).split('\\n\\n')\n",
    "\n",
    "graph = {}\n",
    "for node in nodes.splitlines():\n",
    "    name, left, right = re.findall('[0-9A-Z]+', node)\n",
    "    graph[name] = {}\n",
    "    graph[name]['L'] = left\n",
    "    graph[name]['R'] = right\n",
    "\n",
    "\n",
    "position, goal, steps = 'AAA', 'ZZZ', 0\n",
    "while position!=goal:\n",
    "    position = graph[position][directions[steps%len(directions)]]\n",
    "    steps+=1\n",
    "\n",
    "q1 = steps\n",
    "\n",
    "start_nodes, end_nodes, steps = set(), set(), []\n",
    "for node in graph:\n",
    "    if node[-1]=='A':\n",
    "        start_nodes.add(node)\n",
    "    if node[-1]=='Z':\n",
    "        end_nodes.add(node)\n",
    "\n",
    "for node in start_nodes:\n",
    "    position = node\n",
    "    _steps = 0\n",
    "    while position not in end_nodes:\n",
    "        position = graph[position][directions[_steps%len(directions)]]\n",
    "        _steps+=1\n",
    "    steps.append(_steps)\n",
    "\n",
    "q2 = lcm(*steps)\n",
    "\n",
    "print(f'question 1:\\n{q1}\\nquestion 2:\\n{q2}')"
   ]
  },
  {
   "cell_type": "markdown",
   "metadata": {},
   "source": [
    "# Day 9"
   ]
  },
  {
   "cell_type": "code",
   "execution_count": 10,
   "metadata": {},
   "outputs": [
    {
     "name": "stdout",
     "output_type": "stream",
     "text": [
      "question 1:\n",
      "2101499000\n",
      "question 2:\n",
      "1089\n"
     ]
    }
   ],
   "source": [
    "inp = input(9, listify=True, sample=False)\n",
    "inp = [list(map(int, i.split())) for i in inp]\n",
    "\n",
    "q1, q2 = 0, 0\n",
    "for i in inp: \n",
    "    levels = [i]\n",
    "    while set(levels[-1])!=set([0]):\n",
    "        level = []\n",
    "        for i in range(len(levels[-1])-1):\n",
    "            level.append(levels[-1][i+1]-levels[-1][i])\n",
    "        levels.append(level)\n",
    "    \n",
    "    next_val = sum([l[-1] for l in levels])\n",
    "    q1+=next_val\n",
    "\n",
    "    ls = [l[0] for l in levels]\n",
    "    next_val2 = 0\n",
    "    for l in ls[::-1]:\n",
    "        next_val2 = l-next_val2\n",
    "    q2+=next_val2\n",
    "\n",
    "print(f'question 1:\\n{q1}\\nquestion 2:\\n{q2}')"
   ]
  },
  {
   "cell_type": "markdown",
   "metadata": {},
   "source": [
    "# Day 10"
   ]
  },
  {
   "cell_type": "code",
   "execution_count": 11,
   "metadata": {},
   "outputs": [
    {
     "name": "stdout",
     "output_type": "stream",
     "text": [
      "question 1:\n",
      "6867\n",
      "question 2:\n",
      "595\n"
     ]
    }
   ],
   "source": [
    "M = input(10, sample=False, arrayify=True)\n",
    "\n",
    "for x in range(len(M)):\n",
    "  for y in range(len(M[0])):\n",
    "    if M[x][y]=='S':\n",
    "      x1, y1 = x, y\n",
    "      up = (M[x-1][y] in ['|','7','F'])\n",
    "      right = (M[x][y+1] in ['-','7','J'])\n",
    "      down = (M[x+1][y] in ['|','L','J'])\n",
    "      left = (M[x][y-1] in ['-','L','F'])\n",
    "\n",
    "      if up and down:\n",
    "        M[x][y]='|'\n",
    "        d1 = 0\n",
    "      elif up and right:\n",
    "        M[x][y]='L'\n",
    "        d1 = 0\n",
    "      elif up and left:\n",
    "        M[x][y]='J'\n",
    "        d1 = 0\n",
    "      elif down and right:\n",
    "        M[x][y]='F'\n",
    "        d1 = 2\n",
    "      elif down and left:\n",
    "        M[x][y]='7'\n",
    "        d1 = 2\n",
    "      elif left and right:\n",
    "        M[x][y]='-'\n",
    "        d1 = 1\n",
    "\n",
    "x, y, d = x1, y1, d1\n",
    "dist = 0\n",
    "while True:\n",
    "  dist += 1\n",
    "  x += [-1,0,1,0][d]\n",
    "  y += [0,1,0,-1][d]\n",
    "  if (x,y) == (x1,y1):\n",
    "    q1=dist//2\n",
    "    break\n",
    "  elif M[x][y] in ['-', '|']:\n",
    "    pass\n",
    "  elif M[x][y]=='L':\n",
    "    if d==2:\n",
    "      d = 1\n",
    "    else:\n",
    "      d = 0\n",
    "  elif M[x][y]=='J':\n",
    "    if d==1:\n",
    "      d = 0\n",
    "    else:\n",
    "      d = 3\n",
    "  elif M[x][y]=='7':\n",
    "    if d==0:\n",
    "      d = 3\n",
    "    else:\n",
    "      d = 2\n",
    "  elif M[x][y]=='F':\n",
    "    if d==0:\n",
    "      d = 1\n",
    "    else:\n",
    "      d = 2\n",
    "  \n",
    "\n",
    "R2 = 3*len(M)\n",
    "C2 = 3*len(M[0])\n",
    "M2 = [['.' for _ in range(C2)] for _ in range(R2)]\n",
    "for x in range(len(M)):\n",
    "  for y in range(len(M[0])):\n",
    "    if M[x][y]=='|':\n",
    "      M2[3*x+0][3*y+1] = '#'\n",
    "      M2[3*x+1][3*y+1] = '#'\n",
    "      M2[3*x+2][3*y+1] = '#'\n",
    "    elif M[x][y]=='-':\n",
    "      M2[3*x+1][3*y+0] = '#'\n",
    "      M2[3*x+1][3*y+1] = '#'\n",
    "      M2[3*x+1][3*y+2] = '#'\n",
    "    elif M[x][y]=='7':\n",
    "      M2[3*x+1][3*y+0] = '#'\n",
    "      M2[3*x+1][3*y+1] = '#'\n",
    "      M2[3*x+2][3*y+1] = '#'\n",
    "    elif M[x][y]=='F':\n",
    "      M2[3*x+2][3*y+1] = '#'\n",
    "      M2[3*x+1][3*y+1] = '#'\n",
    "      M2[3*x+1][3*y+2] = '#'\n",
    "    elif M[x][y]=='J':\n",
    "      M2[3*x+1][3*y+0] = '#'\n",
    "      M2[3*x+1][3*y+1] = '#'\n",
    "      M2[3*x+0][3*y+1] = '#'\n",
    "    elif M[x][y]=='L':\n",
    "      M2[3*x+0][3*y+1] = '#'\n",
    "      M2[3*x+1][3*y+1] = '#'\n",
    "      M2[3*x+1][3*y+2] = '#'\n",
    "\n",
    "\n",
    "to_visit = deque()\n",
    "seen = set()\n",
    "# up right down left\n",
    "for x in range(R2):\n",
    "  to_visit.append((x,0))\n",
    "  to_visit.append((x,C2-1))\n",
    "for y in range(C2):\n",
    "  to_visit.append((0,y))\n",
    "  to_visit.append((R2-1,y))\n",
    "while to_visit:\n",
    "  x,y = to_visit.popleft()\n",
    "  if (x,y) in seen or not (0<=x<R2 and 0<=y<C2):\n",
    "    continue\n",
    "  seen.add((x,y))\n",
    "  if M2[x][y]=='#':\n",
    "    continue\n",
    "  for d in range(4):\n",
    "    to_visit.append((x+[-1,0,1,0][d],y+[0,1,0,-1][d]))\n",
    "\n",
    "q2 = 0\n",
    "for x in range(len(M)):\n",
    "  for y in range(len(M[0])):\n",
    "    visited = False\n",
    "    for xx in [0,1,2]:\n",
    "      for yy in [0,1,2]:\n",
    "        if (3*x+xx,3*y+yy) in seen:\n",
    "          visited = True\n",
    "    if not visited:\n",
    "      q2 += 1\n",
    "\n",
    "print(f'question 1:\\n{q1}\\nquestion 2:\\n{q2}')"
   ]
  },
  {
   "cell_type": "markdown",
   "metadata": {},
   "source": [
    "# Day 11"
   ]
  },
  {
   "cell_type": "code",
   "execution_count": 12,
   "metadata": {},
   "outputs": [
    {
     "name": "stdout",
     "output_type": "stream",
     "text": [
      "question 1:\n",
      "9563821\n",
      "question 2:\n",
      "827009909817\n"
     ]
    }
   ],
   "source": [
    "inp = input(11, arrayify=True, sample=False)\n",
    "\n",
    "def expand_rows(M):\n",
    "    M2 = []\n",
    "    for row in M:\n",
    "        M2.append(row)\n",
    "        if not '#' in row:\n",
    "            M2.append(row)\n",
    "    return M2\n",
    "\n",
    "def manhattan(a, b):\n",
    "    return sum(abs(val1-val2) for val1, val2 in zip(a,b))\n",
    "\n",
    "# expand rows, flip, expand cols, flip again\n",
    "future = (\n",
    "    matrix.transpose(\n",
    "        expand_rows(\n",
    "            matrix.transpose(\n",
    "                expand_rows(inp)\n",
    "            )\n",
    "        )\n",
    "    )\n",
    ")\n",
    "\n",
    "# get star locations\n",
    "locs_start = matrix.get_locs(inp, '#')\n",
    "locs_future = matrix.get_locs(future, '#')\n",
    "\n",
    "# calculate manhattan distances and multiply with delta for q2\n",
    "q1 = sum([manhattan(a, b) for a, b in combinations(locs_future, 2)])\n",
    "q2 = sum([manhattan(a, b) for a, b in combinations(locs_start, 2)])\n",
    "q2 = q2+(q1-q2)*(10**6-1)\n",
    "\n",
    "print(f'question 1:\\n{q1}\\nquestion 2:\\n{q2}')"
   ]
  },
  {
   "cell_type": "markdown",
   "metadata": {},
   "source": [
    "# Day 12"
   ]
  },
  {
   "cell_type": "code",
   "execution_count": 13,
   "metadata": {},
   "outputs": [
    {
     "name": "stdout",
     "output_type": "stream",
     "text": [
      "question 1:\n",
      "7705\n",
      "question 2:\n",
      "50338344809230\n"
     ]
    }
   ],
   "source": [
    "inp = [i.split() for i in input(12, listify=True, sample=False)]\n",
    "rows = [(row, tuple(map(int, size.split(\",\")))) for row, size in inp]\n",
    "@cache\n",
    "def get_num(row, sizes, done=0):\n",
    "    # if not enough left return\n",
    "    if len(row)+done<sum(sizes):\n",
    "        return False\n",
    "    # if end of row return if finished\n",
    "    if not row:\n",
    "        return not sizes and not done\n",
    "    num = 0\n",
    "    # create branching if unknown\n",
    "    chars = [\".\", \"#\"] if row[0] == \"?\" else row[0]\n",
    "    for c in chars:\n",
    "        # if broken keep going on group\n",
    "        if c == \"#\":\n",
    "            num += get_num(row[1:], sizes, done + 1)\n",
    "        # if not then check if previous group done\n",
    "        else:\n",
    "            if done:\n",
    "                if sizes and sizes[0] == done:\n",
    "                    num += get_num(row[1:], sizes[1:])\n",
    "            else:\n",
    "                num += get_num(row[1:], sizes)\n",
    "    return num\n",
    "\n",
    "q1=sum(get_num(group + \".\", sizes) for group, sizes in rows)\n",
    "q2=sum(get_num(\"?\".join([group] * 5) + \".\", sizes * 5) for group, sizes in rows)\n",
    "print(f'question 1:\\n{q1}\\nquestion 2:\\n{q2}')"
   ]
  },
  {
   "cell_type": "markdown",
   "metadata": {},
   "source": [
    "# Day 13"
   ]
  },
  {
   "cell_type": "code",
   "execution_count": 14,
   "metadata": {},
   "outputs": [
    {
     "name": "stdout",
     "output_type": "stream",
     "text": [
      "question 1:\n",
      "37561\n",
      "question 2:\n",
      "31108\n"
     ]
    }
   ],
   "source": [
    "def check_reflection(M, smudges=0):\n",
    "    for i in range(1,len(M)):\n",
    "        if type(M[0])==list:\n",
    "            M = [''.join(i) for i in M]\n",
    "        a = ''.join(M[max(0, 2*i-len(M)):i])\n",
    "        b = ''.join(M[i:2*i][::-1])\n",
    "        if sum([1 for a_, b_ in zip(a, b) if a_!=b_])==smudges:\n",
    "            return i\n",
    "    return 0\n",
    "\n",
    "q1 = q2 = 0\n",
    "for scan in [i.splitlines() for i in input(13, sample=False).split('\\n\\n')]:\n",
    "    q1 += max(\n",
    "        100*check_reflection(scan, 0),\n",
    "        check_reflection(matrix.transpose(scan), 0))\n",
    "    q2 += max(\n",
    "        100*check_reflection(scan, 1),\n",
    "        check_reflection(matrix.transpose(scan), 1))\n",
    "\n",
    "print(f'question 1:\\n{q1}\\nquestion 2:\\n{q2}')"
   ]
  },
  {
   "cell_type": "markdown",
   "metadata": {},
   "source": [
    "# Day 14"
   ]
  },
  {
   "cell_type": "code",
   "execution_count": 15,
   "metadata": {},
   "outputs": [
    {
     "name": "stdout",
     "output_type": "stream",
     "text": [
      "question 1:\n",
      "106990\n",
      "question 2:\n",
      "100531\n"
     ]
    }
   ],
   "source": [
    "M = input(14, arrayify=True, sample=False)\n",
    "\n",
    "def tilt(M):\n",
    "    round = deque(matrix.get_locs(M, 'O'))\n",
    "    while round:\n",
    "        x, y = round.popleft()\n",
    "        if x>0 and M[x-1][y]=='.':\n",
    "            M[x-1][y], M[x][y] = 'O', '.'\n",
    "            round.append((x-1, y))\n",
    "    return M\n",
    "\n",
    "q1 = sum([len(M) - loc[0] for loc in matrix.get_locs(tilt(M), 'O')])\n",
    "\n",
    "i = 1\n",
    "seen = {}\n",
    "while i <= 1000000000:\n",
    "    for spin in range(4):\n",
    "        rocks = tuple(matrix.get_locs(M, 'O'))\n",
    "        if (rocks, spin) in seen:\n",
    "            old_i = seen[(rocks, spin)]\n",
    "            skip = (1000000000 - i) // (i - old_i)\n",
    "            i += (i - old_i) * skip\n",
    "            seen = {}\n",
    "        else:\n",
    "            seen[rocks, spin] = i\n",
    "        M = matrix.turn(tilt(M))\n",
    "    i+=1\n",
    "q2 = sum([len(M) - loc[0] for loc in matrix.get_locs(M, 'O')])\n",
    "\n",
    "print(f'question 1:\\n{q1}\\nquestion 2:\\n{q2}')"
   ]
  }
 ],
 "metadata": {
  "kernelspec": {
   "display_name": "tf",
   "language": "python",
   "name": "python3"
  },
  "language_info": {
   "codemirror_mode": {
    "name": "ipython",
    "version": 3
   },
   "file_extension": ".py",
   "mimetype": "text/x-python",
   "name": "python",
   "nbconvert_exporter": "python",
   "pygments_lexer": "ipython3",
   "version": "3.10.8"
  }
 },
 "nbformat": 4,
 "nbformat_minor": 2
}
