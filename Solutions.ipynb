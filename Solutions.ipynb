{
 "cells": [
  {
   "cell_type": "code",
   "execution_count": 3,
   "metadata": {},
   "outputs": [],
   "source": [
    "import re\n",
    "\n",
    "def input(\n",
    "        day: int,\n",
    "        sample: bool=True,\n",
    "        listify: bool=False):\n",
    "    if sample:\n",
    "        filename='sample'\n",
    "    else:\n",
    "        filename='input'\n",
    "    with open(f'data/{day}/{filename}.txt') as file:\n",
    "        data = file.read()\n",
    "\n",
    "    if listify:\n",
    "        data = data.splitlines()\n",
    "\n",
    "    return data"
   ]
  },
  {
   "cell_type": "markdown",
   "metadata": {},
   "source": [
    "# Day 1"
   ]
  },
  {
   "cell_type": "code",
   "execution_count": 4,
   "metadata": {},
   "outputs": [
    {
     "name": "stdout",
     "output_type": "stream",
     "text": [
      "question 1\n",
      "53921\n",
      "question 2\n",
      "54676\n"
     ]
    }
   ],
   "source": [
    "inp = input(1, listify=True, sample=False)\n",
    "\n",
    "total = 0 \n",
    "for line in inp:\n",
    "    nums = [char for char in line if char.isnumeric()]\n",
    "    total += int(nums[0]+nums[-1])\n",
    "\n",
    "print('question 1')\n",
    "print(total)\n",
    "\n",
    "numbers = ['one', 'two', 'three', 'four', 'five', 'six', 'seven', 'eight', 'nine']\n",
    "\n",
    "total = 0 \n",
    "for line in inp:\n",
    "    for i, num in enumerate(numbers):\n",
    "        line = line.replace(num, num+str(i+1)+num)\n",
    "    nums = [char for char in line if char.isnumeric()]\n",
    "    total += int(nums[0]+nums[-1])\n",
    "\n",
    "print('question 2')\n",
    "print(total)"
   ]
  },
  {
   "cell_type": "markdown",
   "metadata": {},
   "source": [
    "# Day 2"
   ]
  },
  {
   "cell_type": "code",
   "execution_count": 5,
   "metadata": {},
   "outputs": [
    {
     "name": "stdout",
     "output_type": "stream",
     "text": [
      "question 1:\n",
      "8\n",
      "question 2:\n",
      "2286\n"
     ]
    }
   ],
   "source": [
    "inp = input(2, listify=True, sample=True)\n",
    "\n",
    "# parse input such that\n",
    "# games = {\n",
    "#   1: ['3 blue', '4 red', '1 red', '2 green'...]\n",
    "#   ...\n",
    "#   }\n",
    "games = {\n",
    "    int(game.split(':')[0].split()[1]):\n",
    "    game.split(':')[1].replace('; ',', ').strip().split(', ')\n",
    "    for game in inp}\n",
    "\n",
    "# get max draw of each colour for each game such that\n",
    "# games = {\n",
    "#   1: {'blue': 6, 'red': 4, 'green': 2}\n",
    "#   ...\n",
    "#   }\n",
    "for no, game in games.items():\n",
    "    colours={}\n",
    "    for draw in game:\n",
    "        draw = draw.split()\n",
    "        colours[draw[-1]] = max(\n",
    "            int(draw[0]),\n",
    "            colours.get(draw[-1], 0)\n",
    "            )\n",
    "    games[no]=colours\n",
    "\n",
    "# compare each draw with top colors\n",
    "top = {'red':12, 'green':13, 'blue':14}\n",
    "possible_games = []\n",
    "for no, max_draws in games.items():\n",
    "    possible=True\n",
    "    for colour, count in top.items():\n",
    "        if max_draws[colour]>count:\n",
    "            possible=False\n",
    "            break\n",
    "    if possible:\n",
    "        possible_games.append(no)\n",
    "\n",
    "print('question 1:')\n",
    "print(sum(possible_games))\n",
    "\n",
    "# multiply...\n",
    "maximum=[]\n",
    "for max_draws in games.values():\n",
    "    total=1\n",
    "    for count in max_draws.values():\n",
    "        total*=count\n",
    "    maximum.append(total)\n",
    "\n",
    "print('question 2:')\n",
    "print(sum(maximum))"
   ]
  },
  {
   "cell_type": "markdown",
   "metadata": {},
   "source": [
    "# Day 3"
   ]
  },
  {
   "cell_type": "code",
   "execution_count": 6,
   "metadata": {},
   "outputs": [
    {
     "name": "stdout",
     "output_type": "stream",
     "text": [
      "question 1\n",
      "4361\n",
      "question 2\n",
      "467835\n"
     ]
    }
   ],
   "source": [
    "inp = input(3, listify=True, sample=True)\n",
    "\n",
    "class Num:\n",
    "    def __init__(self, min_x, max_x, y, value, M):\n",
    "        self.min_x = min_x\n",
    "        self.max_x = max_x\n",
    "        self.y = y\n",
    "        self.value = int(value)\n",
    "        self.M = M\n",
    "        self.geared = False\n",
    "        self.get_coords()\n",
    "        self.check_value()\n",
    "\n",
    "    # get coordinates for adjacent values\n",
    "    def get_coords(self):\n",
    "        _coords = []\n",
    "        for i in range(self.min_x-1, self.max_x+1):\n",
    "            _coords.append((i, self.y-1))\n",
    "            _coords.append((i, self.y+1))\n",
    "        _coords.append((self.min_x-1, self.y))\n",
    "        _coords.append((self.max_x, self.y))\n",
    "        self.coords = []\n",
    "        for i in _coords:\n",
    "            if (len(self.M[0]))>i[0]>=0 and len(self.M)>i[1]>=0:\n",
    "                self.coords.append(i)\n",
    "\n",
    "    # check adjacent if attached or geared\n",
    "    def check_value(self):\n",
    "        keep = False\n",
    "        for coord in self.coords:\n",
    "            if self.M[coord[1]][coord[0]]!='.':\n",
    "                keep = True\n",
    "            if self.M[coord[1]][coord[0]]=='*':\n",
    "                self.geared=coord\n",
    "        if not keep:\n",
    "            self.value=0\n",
    "\n",
    "q1 = 0\n",
    "q2 = 0\n",
    "seen_gears = {}\n",
    "\n",
    "for y, row in enumerate(inp):\n",
    "    for i in re.finditer('[0-9]+', row):\n",
    "        num = Num(\n",
    "            min_x=i.start(),\n",
    "            max_x=i.end(),\n",
    "            y=y,\n",
    "            value=i.group(),\n",
    "            M=inp\n",
    "        )\n",
    "\n",
    "        q1 += num.value\n",
    "        \n",
    "        if num.geared:\n",
    "            if num.geared in seen_gears:\n",
    "                q2 += num.value*seen_gears[num.geared]\n",
    "            else:\n",
    "                seen_gears[num.geared] = num.value\n",
    "\n",
    "print('question 1')\n",
    "print(q1)\n",
    "print('question 2')\n",
    "print(q2)"
   ]
  },
  {
   "cell_type": "markdown",
   "metadata": {},
   "source": [
    "# 4"
   ]
  },
  {
   "cell_type": "code",
   "execution_count": 7,
   "metadata": {},
   "outputs": [
    {
     "name": "stdout",
     "output_type": "stream",
     "text": [
      "question 1\n",
      "23941\n",
      "question 2\n",
      "5571760\n"
     ]
    }
   ],
   "source": [
    "inp = input(4, listify=True, sample=False)\n",
    "winning = [i.split(':')[1].split('|')[0].split() for i in inp]\n",
    "have = [i.split(':')[1].split('|')[1].split() for i in inp]\n",
    "wins = [len(set(h).intersection(set(w)))for h, w in zip(winning, have)]\n",
    "q1 = sum([2**(i-1) for i in wins if i>0])\n",
    "\n",
    "count = [1 for _ in wins]\n",
    "for i, c in enumerate(count):\n",
    "    w = wins[i]\n",
    "    for j in range(i+1, i+1+w):\n",
    "        if j < len(count):\n",
    "            count[j]+=c\n",
    "q2 = sum(count)\n",
    "\n",
    "print('question 1')\n",
    "print(q1)\n",
    "print('question 2')\n",
    "print(q2)"
   ]
  },
  {
   "cell_type": "markdown",
   "metadata": {},
   "source": [
    "# 5"
   ]
  },
  {
   "cell_type": "code",
   "execution_count": 8,
   "metadata": {},
   "outputs": [
    {
     "name": "stdout",
     "output_type": "stream",
     "text": [
      "question 1\n",
      "910845529\n",
      "question 2\n",
      "77435348\n"
     ]
    }
   ],
   "source": [
    "inp = input(5, sample=False)\n",
    "seeds = [int(i) for i in inp.split('\\n\\n')[0].split()[1:]]\n",
    "recipes = inp.split('\\n\\n')[1:]\n",
    "recipes = [i.splitlines()[1:] for i in recipes]\n",
    "\n",
    "class Instruction:\n",
    "    def __init__(self, lines):\n",
    "        self.maps = [[int(i) for i in line.split()] for line in lines]\n",
    "\n",
    "    def match(self, seed):\n",
    "        for (destination, source, size) in self.maps:\n",
    "            if source<=seed<source+size:\n",
    "                return seed+destination-source\n",
    "        return seed\n",
    "\n",
    "    def match2(self, seeds):\n",
    "        answers = []\n",
    "        for (destination, source, size) in self.maps:\n",
    "            source_end = source+size\n",
    "            new_seeds = []\n",
    "            \n",
    "            while seeds:\n",
    "                start, end = seeds.pop()\n",
    "                \n",
    "                before_range = (start, min(end, source))\n",
    "                if before_range[1]>before_range[0]:\n",
    "                    new_seeds.append(before_range)\n",
    "\n",
    "                after_range = (max(source_end, start), end)\n",
    "                if after_range[1]>after_range[0]:\n",
    "                    new_seeds.append(after_range)\n",
    "\n",
    "                intersection = (max(start, source), min(source_end, end))\n",
    "                if intersection[1]>intersection[0]:\n",
    "                    answers.append((intersection[0]-source+destination, intersection[1]-source+destination))\n",
    "\n",
    "            seeds = new_seeds\n",
    "        return answers+new_seeds\n",
    "\n",
    "instructions  = [Instruction(recipe) for recipe in recipes]\n",
    "\n",
    "destinations = []\n",
    "for seed in seeds:\n",
    "    dest = seed\n",
    "    for instruction in instructions:\n",
    "        dest = instruction.match(dest)\n",
    "    destinations.append(dest)\n",
    "q1 = min(destinations)\n",
    "\n",
    "\n",
    "destinations2 = []\n",
    "seeds = list(zip(seeds[::2], seeds[1::2]))\n",
    "for start, size in seeds:\n",
    "  range = [(start, start+size)] \n",
    "  for instruction in instructions:\n",
    "    range = instruction.match2(range)\n",
    "  destinations2.append(min(range)[0])\n",
    "q2 = min(destinations2)\n",
    "\n",
    "\n",
    "print('question 1')\n",
    "print(q1)\n",
    "print('question 2')\n",
    "print(q2)"
   ]
  }
 ],
 "metadata": {
  "kernelspec": {
   "display_name": "tf",
   "language": "python",
   "name": "python3"
  },
  "language_info": {
   "codemirror_mode": {
    "name": "ipython",
    "version": 3
   },
   "file_extension": ".py",
   "mimetype": "text/x-python",
   "name": "python",
   "nbconvert_exporter": "python",
   "pygments_lexer": "ipython3",
   "version": "3.10.8"
  }
 },
 "nbformat": 4,
 "nbformat_minor": 2
}
