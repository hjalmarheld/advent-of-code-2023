{
 "cells": [
  {
   "cell_type": "code",
   "execution_count": 17,
   "metadata": {},
   "outputs": [],
   "source": [
    "def input(\n",
    "        day: int,\n",
    "        sample: bool=True,\n",
    "        listify: bool=False):\n",
    "    if sample:\n",
    "        filename='sample'\n",
    "    else:\n",
    "        filename='input'\n",
    "    with open(f'data/{day}/{filename}.txt') as file:\n",
    "        data = file.read()\n",
    "\n",
    "    if listify:\n",
    "        data = data.splitlines()\n",
    "\n",
    "    return data"
   ]
  },
  {
   "cell_type": "markdown",
   "metadata": {},
   "source": [
    "# Day 1"
   ]
  },
  {
   "cell_type": "code",
   "execution_count": 92,
   "metadata": {},
   "outputs": [
    {
     "name": "stdout",
     "output_type": "stream",
     "text": [
      "53921\n",
      "54676\n"
     ]
    }
   ],
   "source": [
    "inp = input(1, listify=True, sample=False)\n",
    "\n",
    "total = 0 \n",
    "for line in inp:\n",
    "    nums = []\n",
    "    for char in line:\n",
    "        if char in '1234567890':\n",
    "            nums.append(char)\n",
    "    total += int(nums[0]+nums[-1])\n",
    "\n",
    "print(total)\n",
    "\n",
    "swap = {\n",
    "    'one':1, 'two':2, 'three':3,\n",
    "    'four':4,'five':5, 'six':6,\n",
    "    'seven':7, 'eight':8, 'nine':9\n",
    "}\n",
    "\n",
    "total = 0 \n",
    "for line in inp:\n",
    "    for key in swap.keys():\n",
    "        line = line.replace(key, key+str(swap[key])+key)\n",
    "    nums = []\n",
    "    for char in line:\n",
    "        if char in '1234567890':\n",
    "            nums.append(char)\n",
    "    total += int(nums[0]+nums[-1])\n",
    "\n",
    "print(total)"
   ]
  }
 ],
 "metadata": {
  "kernelspec": {
   "display_name": "tf",
   "language": "python",
   "name": "python3"
  },
  "language_info": {
   "codemirror_mode": {
    "name": "ipython",
    "version": 3
   },
   "file_extension": ".py",
   "mimetype": "text/x-python",
   "name": "python",
   "nbconvert_exporter": "python",
   "pygments_lexer": "ipython3",
   "version": "3.10.8"
  }
 },
 "nbformat": 4,
 "nbformat_minor": 2
}
